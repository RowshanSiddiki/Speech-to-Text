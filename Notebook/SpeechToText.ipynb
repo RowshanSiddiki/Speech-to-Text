{
 "cells": [
  {
   "cell_type": "code",
   "execution_count": null,
   "id": "4f31427a-dc5a-4ff8-9b0d-f73a58e30300",
   "metadata": {},
   "outputs": [],
   "source": []
  },
  {
   "cell_type": "code",
   "execution_count": 1,
   "id": "272d293d-bc16-495a-b423-96a776a7b7c5",
   "metadata": {},
   "outputs": [
    {
     "name": "stdout",
     "output_type": "stream",
     "text": [
      "* Running on local URL:  http://127.0.0.1:7860\n",
      "* Running on public URL: https://b7aafa9eb61988ba26.gradio.live\n",
      "\n",
      "This share link expires in 1 week. For free permanent hosting and GPU upgrades, run `gradio deploy` from the terminal in the working directory to deploy to Hugging Face Spaces (https://huggingface.co/spaces)\n"
     ]
    },
    {
     "data": {
      "text/html": [
       "<div><iframe src=\"https://b7aafa9eb61988ba26.gradio.live\" width=\"100%\" height=\"500\" allow=\"autoplay; camera; microphone; clipboard-read; clipboard-write;\" frameborder=\"0\" allowfullscreen></iframe></div>"
      ],
      "text/plain": [
       "<IPython.core.display.HTML object>"
      ]
     },
     "metadata": {},
     "output_type": "display_data"
    },
    {
     "data": {
      "text/plain": []
     },
     "execution_count": 1,
     "metadata": {},
     "output_type": "execute_result"
    }
   ],
   "source": [
    "import whisper\n",
    "import gradio as gr\n",
    "\n",
    "model = whisper.load_model(\"base\") \n",
    "\n",
    "def transcribe(audio, state):\n",
    "    if audio is None:\n",
    "        return state, state\n",
    "    result = model.transcribe(audio)\n",
    "    text = result['text']\n",
    "    state += text + \" \"\n",
    "    return state, state\n",
    "\n",
    "with gr.Blocks() as app:\n",
    "    gr.Markdown(\"Live Speech-to-Text with Memory (Whisper)\")\n",
    "\n",
    "    state = gr.State(\"\")  \n",
    "\n",
    "    with gr.Row():\n",
    "        audio_input = gr.Audio(sources=[\"microphone\"], type=\"filepath\", label=\"Speak here\")\n",
    "        transcript_output = gr.Textbox(label=\"Transcript\", lines=6)\n",
    "\n",
    "    audio_input.change(\n",
    "        fn=transcribe,\n",
    "        inputs=[audio_input, state],\n",
    "        outputs=[transcript_output, state]\n",
    "    )\n",
    "\n",
    "    gr.Button(\"Reset Transcript\").click(lambda: (\"\", \"\"), outputs=[transcript_output, state])\n",
    "\n",
    "app.launch(share=True, inline=True)\n"
   ]
  },
  {
   "cell_type": "code",
   "execution_count": null,
   "id": "17e7c2bf-5cf4-43af-8d97-8ef419b11b78",
   "metadata": {},
   "outputs": [],
   "source": []
  }
 ],
 "metadata": {
  "kernelspec": {
   "display_name": "Python 3 (ipykernel)",
   "language": "python",
   "name": "python3"
  },
  "language_info": {
   "codemirror_mode": {
    "name": "ipython",
    "version": 3
   },
   "file_extension": ".py",
   "mimetype": "text/x-python",
   "name": "python",
   "nbconvert_exporter": "python",
   "pygments_lexer": "ipython3",
   "version": "3.11.7"
  }
 },
 "nbformat": 4,
 "nbformat_minor": 5
}
